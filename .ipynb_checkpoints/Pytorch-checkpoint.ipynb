{
 "cells": [
  {
   "cell_type": "code",
   "execution_count": null,
   "id": "eac1e4a6-6c76-49e9-b8ee-8cd3a9db3644",
   "metadata": {},
   "outputs": [],
   "source": [
    "#Pytorch Version"
   ]
  }
 ],
 "metadata": {
  "kernelspec": {
   "display_name": "Python 3 (ipykernel)",
   "language": "python",
   "name": "python3"
  },
  "language_info": {
   "codemirror_mode": {
    "name": "ipython",
    "version": 3
   },
   "file_extension": ".py",
   "mimetype": "text/x-python",
   "name": "python",
   "nbconvert_exporter": "python",
   "pygments_lexer": "ipython3",
   "version": "3.10.6"
  }
 },
 "nbformat": 4,
 "nbformat_minor": 5
}
