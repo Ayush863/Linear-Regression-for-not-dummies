{
 "cells": [
  {
   "cell_type": "markdown",
   "metadata": {
    "colab_type": "text",
    "id": "view-in-github"
   },
   "source": [
    "<a href=\"https://colab.research.google.com/github/Ayush863/Linear-Regression-for-not-dummies/blob/main/Linear_Regression_for_dummies.ipynb\" target=\"_parent\"><img src=\"https://colab.research.google.com/assets/colab-badge.svg\" alt=\"Open In Colab\"/></a>"
   ]
  },
  {
   "cell_type": "code",
   "execution_count": 6,
   "metadata": {
    "id": "B6lehVxxxjPu"
   },
   "outputs": [],
   "source": [
    "# Ordinary Least Squares (Linear) regression\n",
    "# Here, we are trying to teach our model to approximate the equation of a line, f = w * x + b. \n",
    "import numpy as np"
   ]
  },
  {
   "cell_type": "code",
   "execution_count": 7,
   "metadata": {
    "id": "jQh2popQx6F3"
   },
   "outputs": [],
   "source": [
    "# Generating a toy Dataset\n",
    "# Function to approximate: Y = 3X - 9.\n",
    "X = np.array([1, 2, 3, 4, 5, 6, 7, 8, 9, 10, 11, 12, 13, 14, 15], dtype=np.float32)\n",
    "Y = np.array([-6, -3, 0, 3, 6, 9, 12, 15, 18, 21, 24, 27, 30, 33, 36], dtype=np.float32)"
   ]
  },
  {
   "cell_type": "code",
   "execution_count": 8,
   "metadata": {
    "id": "PBO-D0ZvyCGd"
   },
   "outputs": [],
   "source": [
    "# Initialising weight. It should be noted that weight initialization is necessary to \n",
    "# prevent gradient collapse/explosion, and there are much better initialisation methods\n",
    "# (Xavier Initialisation, Kaiming Initialization etc.)\n",
    "\n",
    "w = 0.0\n",
    "b = 0.0\n",
    "\n",
    "# Generating Train and Test datasets (80:20 split)\n",
    "X_train = X[0 : int(np.ceil(len(X)*0.8))]\n",
    "X_test = X[int(np.ceil(len(X)*0.8)) : ]\n",
    "\n",
    "Y_train = Y[0 : int(np.ceil(len(Y)*0.8))]\n",
    "Y_test = Y[int(np.ceil(len(Y)*0.8)) : ]"
   ]
  },
  {
   "cell_type": "code",
   "execution_count": 9,
   "metadata": {
    "id": "JXUe1IUnyH04"
   },
   "outputs": [
    {
     "name": "stdout",
     "output_type": "stream",
     "text": [
      "epoch 1/5000: w = 3.744, b =  0.032 loss = 217.50000000\n",
      "epoch 501/5000: w = 2.222, b = -2.518 loss = 9.25490189\n",
      "epoch 1001/5000: w = 2.440, b = -4.339 loss = 4.78615475\n",
      "epoch 1501/5000: w = 2.598, b = -5.648 loss = 2.47515130\n",
      "epoch 2001/5000: w = 2.711, b = -6.589 loss = 1.28001904\n",
      "epoch 2501/5000: w = 2.792, b = -7.267 loss = 0.66195959\n",
      "epoch 3001/5000: w = 2.850, b = -7.753 loss = 0.34233117\n",
      "epoch 3501/5000: w = 2.892, b = -8.104 loss = 0.17703605\n",
      "epoch 4001/5000: w = 2.923, b = -8.355 loss = 0.09155386\n",
      "epoch 4501/5000: w = 2.944, b = -8.536 loss = 0.04734680\n"
     ]
    }
   ],
   "source": [
    "# model output\n",
    "def forward(x):\n",
    "    return w * x + b\n",
    "\n",
    "# loss = MSE ((w*x - y)^2)*1/N\n",
    "def loss(y, y_pred):\n",
    "    return ((y_pred - y)**2).mean()\n",
    "\n",
    "# Gradient, d(loss)/dw = 1/N * 2x(w*x - y)\n",
    "def gradient(x, y, y_pred):\n",
    "    return [np.dot(2*x, y_pred - y).mean(), 2*(y_pred - y).mean()]\n",
    "\n",
    "# Training\n",
    "learning_rate = 0.0015\n",
    "n_iters = 5000\n",
    "\n",
    "for epoch in range(n_iters):\n",
    "    # predict = forward pass\n",
    "    y_pred = forward(X_train)\n",
    "\n",
    "    # loss\n",
    "    l = loss(Y_train, y_pred)\n",
    "    \n",
    "    # calculating gradients\n",
    "    dw = gradient(X_train, Y_train, y_pred)[0]\n",
    "    db = gradient(X_train, Y_train, y_pred)[1]\n",
    "\n",
    "    # updating weights\n",
    "    w -= learning_rate * dw\n",
    "    b -= learning_rate * db\n",
    "\n",
    "    if epoch % 500 == 0:\n",
    "        print(f'epoch {epoch+1}/{n_iters}: w = {w:.3f}, b = {b: .3f} loss = {l:.8f}')"
   ]
  },
  {
   "cell_type": "code",
   "execution_count": 5,
   "metadata": {
    "id": "pBeb4oZt1yGP"
   },
   "outputs": [
    {
     "name": "stdout",
     "output_type": "stream",
     "text": [
      "for X = 13.0, Y predicted =  29.8, while Y true = 30.0\n",
      "for X = 14.0, Y predicted =  32.8, while Y true = 33.0\n",
      "for X = 15.0, Y predicted =  35.7, while Y true = 36.0\n"
     ]
    }
   ],
   "source": [
    "# Predicting on the Test Dataset\n",
    "for i in range (len(X_test)):\n",
    "  print(f'for X = {X_test[i]}, Y predicted = {forward(X_test[i]): .1f}, while Y true = {Y_test[i]}')"
   ]
  }
 ],
 "metadata": {
  "colab": {
   "authorship_tag": "ABX9TyNQ5tbYQKi4m5UeTj1BVafN",
   "collapsed_sections": [],
   "include_colab_link": true,
   "private_outputs": true,
   "provenance": []
  },
  "kernelspec": {
   "display_name": "Python 3 (ipykernel)",
   "language": "python",
   "name": "python3"
  },
  "language_info": {
   "codemirror_mode": {
    "name": "ipython",
    "version": 3
   },
   "file_extension": ".py",
   "mimetype": "text/x-python",
   "name": "python",
   "nbconvert_exporter": "python",
   "pygments_lexer": "ipython3",
   "version": "3.10.6"
  }
 },
 "nbformat": 4,
 "nbformat_minor": 4
}
