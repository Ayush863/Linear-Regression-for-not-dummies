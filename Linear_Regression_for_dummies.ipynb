{
  "nbformat": 4,
  "nbformat_minor": 0,
  "metadata": {
    "colab": {
      "private_outputs": true,
      "provenance": [],
      "collapsed_sections": [],
      "authorship_tag": "ABX9TyNQ5tbYQKi4m5UeTj1BVafN",
      "include_colab_link": true
    },
    "kernelspec": {
      "name": "python3",
      "display_name": "Python 3"
    },
    "language_info": {
      "name": "python"
    }
  },
  "cells": [
    {
      "cell_type": "markdown",
      "metadata": {
        "id": "view-in-github",
        "colab_type": "text"
      },
      "source": [
        "<a href=\"https://colab.research.google.com/github/Ayush863/Linear-Regression-for-not-dummies/blob/main/Linear_Regression_for_dummies.ipynb\" target=\"_parent\"><img src=\"https://colab.research.google.com/assets/colab-badge.svg\" alt=\"Open In Colab\"/></a>"
      ]
    },
    {
      "cell_type": "code",
      "source": [
        "# Ordinary Least Squares (Linear) regression\n",
        "# Here, we are trying to teach our model to approximate the equation of a line, f = w * x + b. \n",
        "import numpy as np"
      ],
      "metadata": {
        "id": "B6lehVxxxjPu"
      },
      "execution_count": null,
      "outputs": []
    },
    {
      "cell_type": "code",
      "source": [
        "# Generating a toy Dataset.\n",
        "# Function to approximate: Y = 3X - 9.\n",
        "X = np.array([1, 2, 3, 4, 5, 6, 7, 8, 9, 10, 11, 12, 13, 14, 15], dtype=np.float32)\n",
        "Y = np.array([-6, -3, 0, 3, 6, 9, 12, 15, 18, 21, 24, 27, 30, 33, 36], dtype=np.float32)"
      ],
      "metadata": {
        "id": "jQh2popQx6F3"
      },
      "execution_count": null,
      "outputs": []
    },
    {
      "cell_type": "code",
      "source": [
        "# Initialising weight. It should be noted that weight initialization is necessary to \n",
        "# prevent gradient collapse/explosion, and there are much better initialisation methods\n",
        "# (Xavier Initialisation, Kaiming Initialization etc.)\n",
        "\n",
        "w = 0.0\n",
        "b = 0.0\n",
        "\n",
        "# Generating Train and Test datasets (80:20 split)\n",
        "X_train = X[0 : int(np.ceil(len(X)*0.8))]\n",
        "X_test = X[int(np.ceil(len(X)*0.8)) : ]\n",
        "\n",
        "Y_train = Y[0 : int(np.ceil(len(Y)*0.8))]\n",
        "Y_test = Y[int(np.ceil(len(Y)*0.8)) : ]"
      ],
      "metadata": {
        "id": "PBO-D0ZvyCGd"
      },
      "execution_count": null,
      "outputs": []
    },
    {
      "cell_type": "code",
      "source": [
        "# model output\n",
        "def forward(x):\n",
        "    return w * x + b\n",
        "\n",
        "# loss = MSE ((w*x - y)^2)*1/N\n",
        "def loss(y, y_pred):\n",
        "    return ((y_pred - y)**2).mean()\n",
        "\n",
        "# Gradient, d(loss)/dw = 1/N * 2x(w*x - y)\n",
        "def gradient(x, y, y_pred):\n",
        "    return [np.dot(2*x, y_pred - y).mean(), 2*(y_pred - y).mean()]\n",
        "\n",
        "# Training\n",
        "learning_rate = 0.0015\n",
        "n_iters = 5000\n",
        "\n",
        "for epoch in range(n_iters):\n",
        "    # predict = forward pass\n",
        "    y_pred = forward(X_train)\n",
        "\n",
        "    # loss\n",
        "    l = loss(Y_train, y_pred)\n",
        "    \n",
        "    # calculating gradients\n",
        "    dw = gradient(X_train, Y_train, y_pred)[0]\n",
        "    db = gradient(X_train, Y_train, y_pred)[1]\n",
        "\n",
        "    # updating weights\n",
        "    w -= learning_rate * dw\n",
        "    b -= learning_rate * db\n",
        "\n",
        "    if epoch % 500 == 0:\n",
        "        print(f'epoch {epoch+1}/{n_iters}: w = {w:.3f}, b = {b: .3f} loss = {l:.8f}')"
      ],
      "metadata": {
        "id": "JXUe1IUnyH04"
      },
      "execution_count": null,
      "outputs": []
    },
    {
      "cell_type": "code",
      "source": [
        "# Predicting on the Test Dataset\n",
        "for i in range (len(X_test)):\n",
        "  print(f'for X = {X_test[i]}, Y predicted = {forward(X_test[i]): .1f}, while Y true = {Y_test[i]}')"
      ],
      "metadata": {
        "id": "pBeb4oZt1yGP"
      },
      "execution_count": null,
      "outputs": []
    }
  ]
}
